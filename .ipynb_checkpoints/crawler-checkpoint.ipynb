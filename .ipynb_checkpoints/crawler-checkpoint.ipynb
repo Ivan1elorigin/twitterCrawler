{
 "cells": [
  {
   "cell_type": "code",
   "execution_count": 10,
   "id": "b1c4b90b-bb42-4755-ae49-62b4b6112ae3",
   "metadata": {},
   "outputs": [],
   "source": [
    "import tweepy\n",
    "import pandas as pd\n",
    "from google.cloud import storage\n",
    "import os\n",
    "import json"
   ]
  },
  {
   "cell_type": "code",
   "execution_count": 11,
   "id": "25705ace-acd8-4f02-9cc5-a7af516a960b",
   "metadata": {},
   "outputs": [],
   "source": [
    "# Cargar el archivo JSON\n",
    "with open(\"config.json\", \"r\") as file:\n",
    "    config = json.load(file)"
   ]
  },
  {
   "cell_type": "code",
   "execution_count": 12,
   "id": "f5892261-cbb9-429a-9517-1338f884015c",
   "metadata": {},
   "outputs": [],
   "source": [
    "# Obtener el token\n",
    "BEARER_TOKEN = config.get(\"BEARER_TOKEN\")"
   ]
  },
  {
   "cell_type": "code",
   "execution_count": 13,
   "id": "9d57b589-0724-476d-930d-4dfb910d90fe",
   "metadata": {},
   "outputs": [
    {
     "name": "stdout",
     "output_type": "stream",
     "text": [
      "AAAAAAAAAAAAAAAAAAAAADDKyAEAAAAAlwqDLXJ%2FSOXHbR%2FjvBT5vxd2uuc%3DWBPSDSBun7nb1cyOrnN7XzZbdxkO7OD1jhnvGON623l7ghPJzL\n"
     ]
    }
   ],
   "source": [
    "print(BEARER_TOKEN) "
   ]
  },
  {
   "cell_type": "code",
   "execution_count": 15,
   "id": "04cb33a2-0ee5-4a86-a613-6fb05ccc7806",
   "metadata": {},
   "outputs": [],
   "source": [
    "\n",
    "# Configurar autenticación de Twitter\n",
    "# bearer_token = 'TU_BEARER_TOKEN'\n",
    "client = tweepy.Client(bearer_token=BEARER_TOKEN)\n",
    "\n",
    "# Definir consulta y parámetros\n",
    "query = '8M -is:retweet lang:es'\n",
    "\n",
    "# Guardar DataFrame en un archivo CSV\n",
    "csv_filename = 'tweets.csv'\n",
    "\n",
    "numberTweets = 50\n",
    "\n",
    "tweets = client.search_recent_tweets(query=query, tweet_fields=['author_id', 'created_at'], max_results=numberTweets)\n",
    "\n",
    "# Procesar datos y almacenarlos en un DataFrame\n",
    "data = []\n",
    "for tweet in tweets.data:\n",
    "    data.append([tweet.id, tweet.author_id, tweet.created_at, tweet.text])\n",
    "df = pd.DataFrame(data, columns=['id', 'author_id', 'created_at', 'text'])\n",
    "\n",
    "# Verificar si el archivo ya existe para manejar el encabezado\n",
    "file_exists = os.path.isfile(csv_filename)\n",
    "\n",
    "df.to_csv(csv_filename, mode='a', header=not file_exists, index=False, encoding='utf-8')\n",
    "\n"
   ]
  },
  {
   "cell_type": "code",
   "execution_count": null,
   "id": "1a2350ea-ddee-4212-821c-c3c22e633df3",
   "metadata": {},
   "outputs": [],
   "source": [
    "# Subir archivo CSV a Google Cloud Storage\n",
    "storage_client = storage.Client.from_service_account_json('ruta_a_tu_archivo_de_credenciales.json')\n",
    "bucket = storage_client.bucket('nombre_de_tu_bucket')\n",
    "blob = bucket.blob(csv_filename)\n",
    "blob.upload_from_filename(csv_filename)\n"
   ]
  }
 ],
 "metadata": {
  "kernelspec": {
   "display_name": "Python 3 (ipykernel)",
   "language": "python",
   "name": "python3"
  },
  "language_info": {
   "codemirror_mode": {
    "name": "ipython",
    "version": 3
   },
   "file_extension": ".py",
   "mimetype": "text/x-python",
   "name": "python",
   "nbconvert_exporter": "python",
   "pygments_lexer": "ipython3",
   "version": "3.12.4"
  }
 },
 "nbformat": 4,
 "nbformat_minor": 5
}
