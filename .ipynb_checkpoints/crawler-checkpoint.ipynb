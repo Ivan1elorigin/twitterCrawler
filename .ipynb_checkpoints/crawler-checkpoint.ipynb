{
 "cells": [
  {
   "cell_type": "code",
   "execution_count": null,
   "id": "04cb33a2-0ee5-4a86-a613-6fb05ccc7806",
   "metadata": {},
   "outputs": [],
   "source": [
    "import tweepy\n",
    "import pandas as pd\n",
    "from google.cloud import storage\n",
    "\n",
    "# Configurar autenticación de Twitter\n",
    "bearer_token = 'TU_BEARER_TOKEN'\n",
    "client = tweepy.Client(bearer_token=bearer_token)\n",
    "\n",
    "# Definir consulta y parámetros\n",
    "query = 'término_de_búsqueda -is:retweet lang:es'\n",
    "tweets = client.search_recent_tweets(query=query, tweet_fields=['author_id', 'created_at'], max_results=100)\n",
    "\n",
    "# Procesar datos y almacenarlos en un DataFrame\n",
    "data = []\n",
    "for tweet in tweets.data:\n",
    "    data.append([tweet.id, tweet.author_id, tweet.created_at, tweet.text])\n",
    "df = pd.DataFrame(data, columns=['id', 'author_id', 'created_at', 'text'])\n",
    "\n",
    "# Guardar DataFrame en un archivo CSV\n",
    "csv_filename = 'tweets.csv'\n",
    "df.to_csv(csv_filename, index=False)\n",
    "\n"
   ]
  },
  {
   "cell_type": "code",
   "execution_count": null,
   "id": "1a2350ea-ddee-4212-821c-c3c22e633df3",
   "metadata": {},
   "outputs": [],
   "source": [
    "# Subir archivo CSV a Google Cloud Storage\n",
    "storage_client = storage.Client.from_service_account_json('ruta_a_tu_archivo_de_credenciales.json')\n",
    "bucket = storage_client.bucket('nombre_de_tu_bucket')\n",
    "blob = bucket.blob(csv_filename)\n",
    "blob.upload_from_filename(csv_filename)\n"
   ]
  }
 ],
 "metadata": {
  "kernelspec": {
   "display_name": "Python 3 (ipykernel)",
   "language": "python",
   "name": "python3"
  },
  "language_info": {
   "codemirror_mode": {
    "name": "ipython",
    "version": 3
   },
   "file_extension": ".py",
   "mimetype": "text/x-python",
   "name": "python",
   "nbconvert_exporter": "python",
   "pygments_lexer": "ipython3",
   "version": "3.12.4"
  }
 },
 "nbformat": 4,
 "nbformat_minor": 5
}
